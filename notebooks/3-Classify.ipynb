{
 "cells": [
  {
   "cell_type": "code",
   "execution_count": null,
   "id": "6eab5f75",
   "metadata": {},
   "outputs": [],
   "source": [
    "import numpy as np\n",
    "import pandas as pd\n",
    "import matplotlib.pyplot as plt\n",
    "\n",
    "from pyspark.sql import SparkSession\n",
    "from pyspark.sql.types import BooleanType, DateType, FloatType, IntegerType, LongType"
   ]
  },
  {
   "cell_type": "code",
   "execution_count": null,
   "id": "685f1ddd",
   "metadata": {},
   "outputs": [],
   "source": [
    "# Spark Session \n",
    "spark = SparkSession.builder.appName('Fraud Detector').getOrCreate()"
   ]
  },
  {
   "cell_type": "code",
   "execution_count": null,
   "id": "74e47395",
   "metadata": {},
   "outputs": [],
   "source": [
    "# Read\n",
    "abspath = \"../\"\n",
    "df_train = spark.read.csv(os.path.join(abspath, \"data/clean_fraudTrain.csv\"), header=True)\n",
    "df_test = spark.read.csv(os.path.join(abspath, \"data/clean_fraudTest.csv\"), header=True)"
   ]
  },
  {
   "cell_type": "code",
   "execution_count": null,
   "id": "91fa4666",
   "metadata": {},
   "outputs": [],
   "source": [
    "df_train.limit(5).toPandas()"
   ]
  },
  {
   "cell_type": "code",
   "execution_count": null,
   "id": "86e928d7",
   "metadata": {},
   "outputs": [],
   "source": [
    "df_train.printSchema()"
   ]
  },
  {
   "cell_type": "code",
   "execution_count": null,
   "id": "869b30e6",
   "metadata": {},
   "outputs": [],
   "source": [
    "def cast_df(df):\n",
    "    df = df.withColumn(\"credit_card_num\",df.credit_card_num.cast(LongType()))\n",
    "    df = df.withColumn(\"amount\",df.amount.cast(FloatType()))\n",
    "    df = df.withColumn(\"lat\",df.lat.cast(FloatType()))\n",
    "    df = df.withColumn(\"long\",df.long.cast(FloatType()))\n",
    "    df = df.withColumn(\"city_pop\",df.city_pop.cast(IntegerType()))\n",
    "    df = df.withColumn(\"merch_lat\",df.merch_lat.cast(FloatType()))\n",
    "    df = df.withColumn(\"merch_long\",df.merch_long.cast(FloatType()))\n",
    "    df = df.withColumn(\"is_fraud\",df.is_fraud.cast(IntegerType()))\n",
    "    df = df.withColumn(\"age\",df.age.cast(IntegerType()))\n",
    "    return df"
   ]
  },
  {
   "cell_type": "code",
   "execution_count": null,
   "id": "1b02b87f",
   "metadata": {},
   "outputs": [],
   "source": [
    "df_train = cast_df(df_train)\n",
    "df_test = cast_df(df_test)"
   ]
  },
  {
   "cell_type": "code",
   "execution_count": null,
   "id": "8bc875b4",
   "metadata": {},
   "outputs": [],
   "source": [
    "# Encode Categorical Variables\n",
    "from pyspark.ml.feature import StringIndexer, IndexToString\n",
    "from pyspark.ml import Pipeline\n",
    "\n",
    "cat_col = ['shop', 'category', 'gender', 'job']\n",
    "\n",
    "list_string_indexer = [StringIndexer(inputCol=c, outputCol=c + \"_indexed\") for c in cat_col]\n",
    "ppl = Pipeline(stages=list_string_indexer)\n",
    "\n",
    "df_train_indexed = ppl.fit(df_train).transform(df_train).drop(*cat_col)\n",
    "df_test_indexed = ppl.fit(df_test).transform(df_test).drop(*cat_col)"
   ]
  },
  {
   "cell_type": "code",
   "execution_count": null,
   "id": "d6738fc8",
   "metadata": {},
   "outputs": [],
   "source": [
    "df_train_indexed.limit(5).toPandas()"
   ]
  },
  {
   "cell_type": "code",
   "execution_count": null,
   "id": "ed15ba0d",
   "metadata": {},
   "outputs": [],
   "source": [
    "from pyspark.ml.feature import VectorAssembler\n",
    "\n",
    "numericCols = ['credit_card_num', 'amount', 'lat', 'long', 'city_pop', 'merch_lat', 'merch_long', 'age', 'shop_indexed', 'category_indexed', 'gender_indexed', 'job_indexed']\n",
    "assembler = VectorAssembler(inputCols=numericCols, outputCol='features')\n",
    "\n",
    "df_train_indexed = assembler.transform(df_train_indexed)\n",
    "df_test_indexed = assembler.transform(df_test_indexed)"
   ]
  },
  {
   "cell_type": "code",
   "execution_count": null,
   "id": "5943ed1d",
   "metadata": {},
   "outputs": [],
   "source": [
    "df_train_indexed.limit(5).toPandas()"
   ]
  },
  {
   "cell_type": "code",
   "execution_count": null,
   "id": "c65cfe14",
   "metadata": {},
   "outputs": [],
   "source": [
    "from pyspark.ml.classification import RandomForestClassifier\n",
    "\n",
    "rf = RandomForestClassifier(labelCol='is_fraud', featuresCol='features',  maxBins=32, numTrees=5)\n",
    "model = rf.fit(df_train_indexed)"
   ]
  },
  {
   "cell_type": "code",
   "execution_count": null,
   "id": "64d4d159",
   "metadata": {},
   "outputs": [],
   "source": [
    "predictions = model.transform(df_test_indexed)"
   ]
  },
  {
   "cell_type": "code",
   "execution_count": null,
   "id": "14cf0ad9",
   "metadata": {},
   "outputs": [],
   "source": [
    "predictions.limit(10).toPandas()"
   ]
  },
  {
   "cell_type": "code",
   "execution_count": null,
   "id": "8bd60109",
   "metadata": {},
   "outputs": [],
   "source": [
    "from pyspark.ml.evaluation import MulticlassClassificationEvaluator\n",
    "\n",
    "evaluator = MulticlassClassificationEvaluator(labelCol='is_fraud', predictionCol='prediction', metricName='accuracy')\n",
    "accuracy = evaluator.evaluate(predications)\n",
    "\n",
    "print(\"Acurracy: {0:.2f}\", accuracy)\n",
    "print(\"Test Error: {0:.2f}\", (1.0 - accuracy))"
   ]
  },
  {
   "cell_type": "code",
   "execution_count": null,
   "id": "ac0f962e",
   "metadata": {},
   "outputs": [],
   "source": [
    "from pyspark.mllib.evaluation import MulticlassMetrics\n",
    "from pyspark.sql.types import FloatType\n",
    "import pyspark.sql.functions as F\n",
    "\n",
    "preds_and_labels = predictions.select(['predication', 'is_fraud']).withColumn('is_fraud', F.col('is_fraud').cast(FloatType())).orderBy('prediction')\n",
    "preds_and_labels = preds_and_labels.select(['prediction', 'is_fraud'])\n",
    "metrics = MulticlassMetrics(preds_and_labels.rdd.map(tuple))"
   ]
  },
  {
   "cell_type": "code",
   "execution_count": null,
   "id": "f7813f97",
   "metadata": {},
   "outputs": [],
   "source": [
    "# Confusion Matrix\n",
    "conf_matrix = metrics.confusionMatrix().toArray()"
   ]
  },
  {
   "cell_type": "code",
   "execution_count": null,
   "id": "189cf646",
   "metadata": {},
   "outputs": [],
   "source": [
    "import seaborn as sns\n",
    "\n",
    "ax = sns.heatmap(conf_matrix, annot=True, cmap='Blues')\n",
    "ax.set_xlabel('\\nPredicted Values')\n",
    "ax.set_ylabel('Actual Values')\n",
    "\n",
    "# Ticket labels - list must be in alphabetical order\n",
    "ax.xaxis.set_ticklabels(['False', 'True'])\n",
    "ax.yaxis.set_ticklabels(['False', 'True'])\n",
    "\n",
    "plt.show()"
   ]
  },
  {
   "cell_type": "code",
   "execution_count": null,
   "id": "85a0829d",
   "metadata": {},
   "outputs": [],
   "source": [
    "# Decode labels\n",
    "list_index_string = [IndexToString(inputCol=c + \"_indexed\", outputCol=c ) for c in cat_col]\n",
    "ppl = Pipeline(stages=list_index_string)\n",
    "\n",
    "df_train_decoded = ppl.fit(df_train_indexed).transform(df_train_indexed).drop(*['shop_indexed', 'category_indexed', 'gender_indexed', 'job_indexed', 'features'])\n",
    "df_train_decoded = ppl.fit(predictions).transform(predictions).drop(*['shop_indexed', 'category_indexed', 'gender_indexed', 'job_indexed', 'features', 'rawPrediction', 'probability'])"
   ]
  },
  {
   "cell_type": "code",
   "execution_count": null,
   "id": "491a6ecd",
   "metadata": {},
   "outputs": [],
   "source": [
    "df_test_decoded.filter(df_test_decoded.is_fraud != df_test_decoded.prediction).toPandas()"
   ]
  },
  {
   "cell_type": "code",
   "execution_count": null,
   "id": "d02001be",
   "metadata": {},
   "outputs": [],
   "source": [
    "df_test_decoded.filter(df_test_decoded.is_fraud == 1 && df_test_decoded.prediction == 0).toPandas()"
   ]
  },
  {
   "cell_type": "code",
   "execution_count": null,
   "id": "dc9365b5",
   "metadata": {},
   "outputs": [],
   "source": [
    "df_test_decoded.filter(df_test_decoded.is_fraud == 0 && df_test_decoded.prediction == 1).toPandas()"
   ]
  },
  {
   "cell_type": "markdown",
   "id": "e5427574",
   "metadata": {},
   "source": [
    "## Summary\n",
    "\n",
    "It seems like we created a good model here. However some notes:\n",
    "\n",
    "* Accuracy is not a good metric for imbalanced data.\n",
    "* Our model could still fail on production! The training data might be from a wrong season or just too old and would suffer a lot seeing new patterns in production. So monitoring ongoning performance of your model is extremely important.\n",
    "* Does our model replace data scientist? No, it empowers them. Instead of building stuff from scratch, data scientists can focus on finding better features. Also it needs experitse to properly evaluate a model."
   ]
  }
 ],
 "metadata": {
  "kernelspec": {
   "display_name": "Python 3 (ipykernel)",
   "language": "python",
   "name": "python3"
  },
  "language_info": {
   "codemirror_mode": {
    "name": "ipython",
    "version": 3
   },
   "file_extension": ".py",
   "mimetype": "text/x-python",
   "name": "python",
   "nbconvert_exporter": "python",
   "pygments_lexer": "ipython3",
   "version": "3.9.7"
  }
 },
 "nbformat": 4,
 "nbformat_minor": 5
}
