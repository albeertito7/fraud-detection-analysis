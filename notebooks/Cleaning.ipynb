{
 "cells": [
  {
   "cell_type": "code",
   "execution_count": 1,
   "id": "9b4e2da2",
   "metadata": {},
   "outputs": [],
   "source": [
    "import os\n",
    "import kaggle\n",
    "import numpy as np\n",
    "import pandas as pd\n",
    "import plotly.express as px\n",
    "import matplotlib.pyplot as plt"
   ]
  },
  {
   "cell_type": "code",
   "execution_count": 2,
   "id": "16bffbb2",
   "metadata": {},
   "outputs": [],
   "source": [
    "pd.set_option('display.max_columns', None)\n",
    "pd.set_option('display.max_rows', 25)"
   ]
  },
  {
   "cell_type": "code",
   "execution_count": 3,
   "id": "d573cb31",
   "metadata": {},
   "outputs": [],
   "source": [
    "# Download dataset using Kaggle API Key\n",
    "# Checking the existance of the required .csv files, if not download them\n",
    "\n",
    "abspath = \"../\"\n",
    "if not os.path.isfile( os.path.join(abspath, \"data/fraudTrain.csv\") ) or not os.path.isfile( os.path.join(abspath, \"data/fraudTest.csv\") ):\n",
    "    kaggle.api.authenticate()\n",
    "    kaggle.api.dataset_download_files(\"kartik2112/fraud-detection\", path=os.path.join(abspath, \"data\"), unzip=True)"
   ]
  },
  {
   "cell_type": "code",
   "execution_count": 4,
   "id": "40799c3e",
   "metadata": {},
   "outputs": [],
   "source": [
    "# Dataset analysis: Train and Test reading\n",
    "df_train = pd.read_csv( os.path.join(abspath, \"data/fraudTrain.csv\"), index_col=0)\n",
    "df_test = pd.read_csv( os.path.join( abspath, \"data/fraudTest.csv\"), index_col=0)"
   ]
  },
  {
   "cell_type": "code",
   "execution_count": 5,
   "id": "1e5d4ed9",
   "metadata": {},
   "outputs": [],
   "source": [
    "# Train\n",
    "df_train['trans_date_trans_time'] = pd.to_datetime(df_train['trans_date_trans_time'], errors='ignore')\n",
    "df_train['dob'] = pd.to_datetime(df_train['dob'], errors='ignore')\n",
    "\n",
    "# Test\n",
    "df_test['trans_date_trans_time'] = pd.to_datetime(df_test['trans_date_trans_time'], errors='ignore')\n",
    "df_test['dob'] = pd.to_datetime(df_test['dob'], errors='ignore')"
   ]
  },
  {
   "cell_type": "code",
   "execution_count": 6,
   "id": "04888d96",
   "metadata": {},
   "outputs": [],
   "source": [
    "drop_columns = ['first', 'last', 'street', 'city', 'state', 'zip', 'trans_num', 'unix_time']\n",
    "\n",
    "df_train.drop(columns=drop_columns, inplace=True)\n",
    "df_test.drop(columns=drop_columns, inplace=True)"
   ]
  },
  {
   "cell_type": "code",
   "execution_count": 7,
   "id": "556923c8",
   "metadata": {},
   "outputs": [],
   "source": [
    "df_train['age'] = np.round((df_train['trans_date_trans_time'] - df_train['dob']) / np.timedelta64(1, 'Y'))\n",
    "df_train = df_train.astype({'age' : 'int64'})\n",
    "\n",
    "df_test['age'] = np.around((df_train['trans_date_trans_time'] - df_train['dob']) / np.timedelta64(1, 'Y'))\n",
    "df_test = df_test.astype({'age' : 'int64'})\n",
    "\n",
    "drop_columns = ['dob']\n",
    "\n",
    "df_train.drop(columns=drop_columns, inplace=True)\n",
    "df_test.drop(columns=drop_columns, inplace=True)"
   ]
  },
  {
   "cell_type": "code",
   "execution_count": 8,
   "id": "013ca443",
   "metadata": {},
   "outputs": [],
   "source": [
    "df_train.head()\n",
    "trans_dict = {'trans_date_trans_time':'timestamp', 'cc_num':'credit_card_num', 'merchant':'shop', 'amt':'amount'}\n",
    "\n",
    "df_train.rename(columns=trans_dict, inplace=True)\n",
    "df_test.rename(columns=trans_dict, inplace=True)"
   ]
  },
  {
   "cell_type": "code",
   "execution_count": 9,
   "id": "899c16fb",
   "metadata": {},
   "outputs": [],
   "source": [
    "df_train.to_csv(os.path.join(abspath, \"data/clean_fraudTrain.csv\"), index=False)\n",
    "df_test.to_csv(os.path.join(abspath, \"data/clean_fraudTest.csv\"), index=False)"
   ]
  }
 ],
 "metadata": {
  "kernelspec": {
   "display_name": "Python 3 (ipykernel)",
   "language": "python",
   "name": "python3"
  },
  "language_info": {
   "codemirror_mode": {
    "name": "ipython",
    "version": 3
   },
   "file_extension": ".py",
   "mimetype": "text/x-python",
   "name": "python",
   "nbconvert_exporter": "python",
   "pygments_lexer": "ipython3",
   "version": "3.9.7"
  }
 },
 "nbformat": 4,
 "nbformat_minor": 5
}
